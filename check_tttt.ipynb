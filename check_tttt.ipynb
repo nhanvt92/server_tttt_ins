{
 "cells": [
  {
   "cell_type": "code",
   "execution_count": 21,
   "metadata": {},
   "outputs": [],
   "source": [
    "# import psycopg2 \n",
    "# import schedule\n",
    "# from psycopg2 import connect\n",
    "import io\n",
    "# import httplib2\n",
    "# import os\n",
    "# import pandas as pd\n",
    "# import numpy as np\n",
    "# import unidecode\n",
    "# from datetime import datetime\n",
    "from utils.df_handle import *\n",
    "from google_service import get_service"
   ]
  },
  {
   "cell_type": "code",
   "execution_count": 22,
   "metadata": {},
   "outputs": [],
   "source": [
    "database = 'biteam'\n",
    "host = '171.235.26.161'\n",
    "username = 'biteam'\n",
    "password = '123biteam'"
   ]
  },
  {
   "cell_type": "code",
   "execution_count": 23,
   "metadata": {},
   "outputs": [],
   "source": [
    "# os.chdir(\"D://ipynb//forecast_sc\")\n",
    "Json_file =\"D:/ipynb/INS/datateam1599968716114-6f9f144b4262.json\"\n",
    "\n",
    "conn = psycopg2.connect(\n",
    "    host= host,\n",
    "    database= database,\n",
    "    user= username,\n",
    "    password= password)\n",
    "\n",
    "service = get_service(json_path=Json_file)\n"
   ]
  },
  {
   "cell_type": "code",
   "execution_count": 16,
   "metadata": {},
   "outputs": [],
   "source": [
    "spreadsheets_id = '1csSgQ4xamqJx5zbgJJAtSNhjTaLiAZtrAwppEFlzNUA'\n",
    "rangeAll = '{0}!A:AA'.format('Check Sale Input')\n",
    "body = {}\n",
    "\n"
   ]
  },
  {
   "cell_type": "code",
   "execution_count": 17,
   "metadata": {},
   "outputs": [],
   "source": [
    "def run_sql():\n",
    "    sql_template=''\n",
    "    with io.open('D:/ipynb/INS/thongtinthanhtoan.txt', \"r\", encoding=\"utf-8\") as f:\n",
    "         sql_template = f.read()#  .replace('\\n', '')\n",
    "    df = pd.read_sql_query(sql_template,conn)\n",
    "    df1 =pd.DataFrame(df)\n",
    "    df1['thoigiangoi'] = df1['thoigiangoi'].dt.strftime('%Y-%m-%d %H:%M:%S')\n",
    "    return(df1)"
   ]
  },
  {
   "cell_type": "code",
   "execution_count": 18,
   "metadata": {},
   "outputs": [],
   "source": [
    "def clear_data():\n",
    "    resultClear = service.spreadsheets().values().clear( spreadsheetId=spreadsheets_id, range=rangeAll,body=body ).execute()"
   ]
  },
  {
   "cell_type": "code",
   "execution_count": 19,
   "metadata": {},
   "outputs": [],
   "source": [
    "def insert_data():\n",
    "    df1 = run_sql()\n",
    "    response_date = service.spreadsheets().values().append(\n",
    "        spreadsheetId=spreadsheets_id,\n",
    "        valueInputOption='RAW',\n",
    "        range='Check Sale Input!A1',\n",
    "        body=dict(\n",
    "            majorDimension='ROWS',\n",
    "            values=df1.T.reset_index().T.values.tolist())\n",
    "    ).execute()\n"
   ]
  },
  {
   "cell_type": "code",
   "execution_count": 20,
   "metadata": {},
   "outputs": [],
   "source": [
    "insert_data()"
   ]
  },
  {
   "cell_type": "code",
   "execution_count": 48,
   "metadata": {},
   "outputs": [],
   "source": [
    "def main():\n",
    "    clear_data()\n",
    "    insert_data()"
   ]
  },
  {
   "cell_type": "code",
   "execution_count": 49,
   "metadata": {},
   "outputs": [],
   "source": [
    "if __name__ == \"__main__\":\n",
    "    main()\n"
   ]
  },
  {
   "cell_type": "code",
   "execution_count": null,
   "metadata": {},
   "outputs": [],
   "source": []
  }
 ],
 "metadata": {
  "kernelspec": {
   "display_name": "Python 3.8.10 ('venv': venv)",
   "language": "python",
   "name": "python3"
  },
  "language_info": {
   "codemirror_mode": {
    "name": "ipython",
    "version": 3
   },
   "file_extension": ".py",
   "mimetype": "text/x-python",
   "name": "python",
   "nbconvert_exporter": "python",
   "pygments_lexer": "ipython3",
   "version": "3.8.10"
  },
  "orig_nbformat": 4,
  "vscode": {
   "interpreter": {
    "hash": "72321b5291c527ca109b5cc6ad676402c04fd488c9b2ef3077125125353c5488"
   }
  }
 },
 "nbformat": 4,
 "nbformat_minor": 2
}
