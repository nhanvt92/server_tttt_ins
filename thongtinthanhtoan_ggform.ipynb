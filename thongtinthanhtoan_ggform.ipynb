{
 "cells": [
  {
   "cell_type": "code",
   "execution_count": 47,
   "metadata": {},
   "outputs": [],
   "source": [
    "from utils.df_handle import *\n",
    "import httplib2\n",
    "import os\n",
    "from google.oauth2 import service_account\n",
    "from googleapiclient import discovery\n",
    "import pandas as pd\n",
    "import numpy as np\n",
    "import unidecode\n",
    "from datetime import datetime"
   ]
  },
  {
   "cell_type": "code",
   "execution_count": 48,
   "metadata": {},
   "outputs": [],
   "source": [
    "# scopes = ['https://www.googleapis.com/auth/spreadsheets','https://www.googleapis.com/auth/drive','https://www.googleapis.com/auth/drive.file']\n",
    "# jsonfile = os.path.join(os.getcwd(),'D:\\Document\\datateam1599968716114-6f9f144b4262.json')\n",
    "# credentials = service_account.Credentials.from_service_account_file(jsonfile, scopes = scopes)\n",
    "# service = discovery.build('sheets','v4',credentials = credentials)"
   ]
  },
  {
   "cell_type": "code",
   "execution_count": 49,
   "metadata": {},
   "outputs": [],
   "source": [
    "URL = 'https://docs.google.com/spreadsheets/d/e/2PACX-1vSYWdHL8hh3RoQTe4dAaidvJ83sbrKiZm9gseWgNru2uWRtfpKzYY87ix9rjl5AK5F7Fa3VGpGA4QgQ/pub?gid=1596587810&single=true&output=csv'"
   ]
  },
  {
   "cell_type": "code",
   "execution_count": 50,
   "metadata": {},
   "outputs": [],
   "source": [
    "df =pd.read_csv(URL, dayfirst=True, parse_dates=['Timestamp'])"
   ]
  },
  {
   "cell_type": "code",
   "execution_count": 51,
   "metadata": {},
   "outputs": [],
   "source": [
    "df.columns = cleancols(df)\n",
    "df.columns = lower_col(df)"
   ]
  },
  {
   "cell_type": "code",
   "execution_count": 52,
   "metadata": {},
   "outputs": [],
   "source": [
    "df.rename({'ghichuvethongtinthanhtoan':'thongtinthanhtoan','tennhanvienbanhang':'tencvbh','timestamp':'thoigiangoi'}\n",
    "          ,axis='columns',inplace =True)\n",
    "# df['inserted_at'] = datetime.now()"
   ]
  },
  {
   "cell_type": "code",
   "execution_count": 53,
   "metadata": {},
   "outputs": [],
   "source": [
    "df1=df[['manv','thongtinthanhtoan','giaiphap','thoigiangoi','makhcu']]"
   ]
  },
  {
   "cell_type": "code",
   "execution_count": 54,
   "metadata": {},
   "outputs": [
    {
     "data": {
      "text/html": [
       "<div>\n",
       "<style scoped>\n",
       "    .dataframe tbody tr th:only-of-type {\n",
       "        vertical-align: middle;\n",
       "    }\n",
       "\n",
       "    .dataframe tbody tr th {\n",
       "        vertical-align: top;\n",
       "    }\n",
       "\n",
       "    .dataframe thead th {\n",
       "        text-align: right;\n",
       "    }\n",
       "</style>\n",
       "<table border=\"1\" class=\"dataframe\">\n",
       "  <thead>\n",
       "    <tr style=\"text-align: right;\">\n",
       "      <th></th>\n",
       "      <th>manv</th>\n",
       "      <th>thongtinthanhtoan</th>\n",
       "      <th>giaiphap</th>\n",
       "      <th>thoigiangoi</th>\n",
       "      <th>makhcu</th>\n",
       "    </tr>\n",
       "  </thead>\n",
       "  <tbody>\n",
       "    <tr>\n",
       "      <th>0</th>\n",
       "      <td>MR0620</td>\n",
       "      <td>Chị Thanh nghỉ 1 tuần nên chưa hỏi được thông ...</td>\n",
       "      <td>23 ghé vào trung tâm lại</td>\n",
       "      <td>2022-05-16 16:29:30</td>\n",
       "      <td>N0210225</td>\n",
       "    </tr>\n",
       "    <tr>\n",
       "      <th>1</th>\n",
       "      <td>MR0620</td>\n",
       "      <td>Qua tuần sẽ thanh toán</td>\n",
       "      <td>Sẽ nhắc lại chị Tý</td>\n",
       "      <td>2022-05-16 16:30:35</td>\n",
       "      <td>P5008-0255</td>\n",
       "    </tr>\n",
       "  </tbody>\n",
       "</table>\n",
       "</div>"
      ],
      "text/plain": [
       "     manv                                  thongtinthanhtoan  \\\n",
       "0  MR0620  Chị Thanh nghỉ 1 tuần nên chưa hỏi được thông ...   \n",
       "1  MR0620                             Qua tuần sẽ thanh toán   \n",
       "\n",
       "                   giaiphap         thoigiangoi      makhcu  \n",
       "0  23 ghé vào trung tâm lại 2022-05-16 16:29:30    N0210225  \n",
       "1        Sẽ nhắc lại chị Tý 2022-05-16 16:30:35  P5008-0255  "
      ]
     },
     "execution_count": 54,
     "metadata": {},
     "output_type": "execute_result"
    }
   ],
   "source": [
    "df1.head()"
   ]
  },
  {
   "cell_type": "code",
   "execution_count": 55,
   "metadata": {},
   "outputs": [],
   "source": [
    "def update_table():\n",
    "\tdf = df1\n",
    "\tpk = ['manv','makhcu','thoigiangoi']\n",
    "\texecute_values_upsert(df, \"d_tttt_ins\",pk)"
   ]
  },
  {
   "cell_type": "code",
   "execution_count": 56,
   "metadata": {},
   "outputs": [],
   "source": [
    "def main():  \n",
    "    update_table()"
   ]
  },
  {
   "cell_type": "code",
   "execution_count": 57,
   "metadata": {},
   "outputs": [
    {
     "name": "stdout",
     "output_type": "stream",
     "text": [
      "INSERT INTO d_tttt_ins(manv,thongtinthanhtoan,giaiphap,thoigiangoi,makhcu) VALUES %s ON CONFLICT (manv, makhcu, thoigiangoi) DO UPDATE SET thongtinthanhtoan = excluded.thongtinthanhtoan, giaiphap = excluded.giaiphap\n",
      "Data inserted using execute_values() successfully..\n"
     ]
    }
   ],
   "source": [
    "if __name__ == \"__main__\":\n",
    "    main()"
   ]
  },
  {
   "cell_type": "code",
   "execution_count": null,
   "metadata": {},
   "outputs": [],
   "source": []
  }
 ],
 "metadata": {
  "kernelspec": {
   "display_name": "Python 3.8.10 ('venv': venv)",
   "language": "python",
   "name": "python3"
  },
  "language_info": {
   "codemirror_mode": {
    "name": "ipython",
    "version": 3
   },
   "file_extension": ".py",
   "mimetype": "text/x-python",
   "name": "python",
   "nbconvert_exporter": "python",
   "pygments_lexer": "ipython3",
   "version": "3.8.10"
  },
  "orig_nbformat": 4,
  "vscode": {
   "interpreter": {
    "hash": "72321b5291c527ca109b5cc6ad676402c04fd488c9b2ef3077125125353c5488"
   }
  }
 },
 "nbformat": 4,
 "nbformat_minor": 2
}
