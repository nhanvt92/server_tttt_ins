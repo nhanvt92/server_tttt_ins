{
 "cells": [
  {
   "cell_type": "code",
   "execution_count": 1,
   "metadata": {},
   "outputs": [],
   "source": [
    "from utils.df_handle import *\n",
    "import httplib2\n",
    "import os\n",
    "from google.oauth2 import service_account\n",
    "from googleapiclient import discovery\n",
    "import pandas as pd\n",
    "import numpy as np\n",
    "import unidecode\n",
    "from datetime import datetime"
   ]
  },
  {
   "cell_type": "code",
   "execution_count": 2,
   "metadata": {},
   "outputs": [],
   "source": [
    "# scopes = ['https://www.googleapis.com/auth/spreadsheets','https://www.googleapis.com/auth/drive','https://www.googleapis.com/auth/drive.file']\n",
    "# jsonfile = os.path.join(os.getcwd(),'D:\\Document\\datateam1599968716114-6f9f144b4262.json')\n",
    "# credentials = service_account.Credentials.from_service_account_file(jsonfile, scopes = scopes)\n",
    "# service = discovery.build('sheets','v4',credentials = credentials)"
   ]
  },
  {
   "cell_type": "code",
   "execution_count": 3,
   "metadata": {},
   "outputs": [],
   "source": [
    "URL_ggform = 'https://docs.google.com/spreadsheets/d/e/2PACX-1vSYWdHL8hh3RoQTe4dAaidvJ83sbrKiZm9gseWgNru2uWRtfpKzYY87ix9rjl5AK5F7Fa3VGpGA4QgQ/pub?gid=1596587810&single=true&output=csv'"
   ]
  },
  {
   "cell_type": "code",
   "execution_count": 4,
   "metadata": {},
   "outputs": [],
   "source": [
    "df =pd.read_csv(URL_ggform, dayfirst=True, parse_dates=['Timestamp'])"
   ]
  },
  {
   "cell_type": "code",
   "execution_count": 5,
   "metadata": {},
   "outputs": [],
   "source": [
    "df.columns = cleancols(df)\n",
    "df.columns = lower_col(df)"
   ]
  },
  {
   "cell_type": "code",
   "execution_count": 6,
   "metadata": {},
   "outputs": [],
   "source": [
    "df.rename({'ghichuvethongtinthanhtoan':'thongtinthanhtoan','tennhanvienbanhang':'tencvbh','timestamp':'thoigiangoi'}\n",
    "          ,axis='columns',inplace =True)\n",
    "df['updated_at'] = datetime.now()"
   ]
  },
  {
   "cell_type": "code",
   "execution_count": 7,
   "metadata": {},
   "outputs": [],
   "source": [
    "df1=df[['manv','thongtinthanhtoan','giaiphap','thoigiangoi','makhcu','updated_at']]"
   ]
  },
  {
   "cell_type": "code",
   "execution_count": 55,
   "metadata": {},
   "outputs": [],
   "source": [
    "def update_table():\n",
    "\tdf = df1\n",
    "\tpk = ['manv','makhcu','thongtinthanhtoan']\n",
    "\texecute_values_upsert(df, \"d_tttt_ins\",pk)"
   ]
  },
  {
   "cell_type": "code",
   "execution_count": 56,
   "metadata": {},
   "outputs": [],
   "source": [
    "def main():  \n",
    "    update_table()"
   ]
  },
  {
   "cell_type": "code",
   "execution_count": 57,
   "metadata": {},
   "outputs": [
    {
     "name": "stdout",
     "output_type": "stream",
     "text": [
      "INSERT INTO d_tttt_ins(manv,thongtinthanhtoan,giaiphap,thoigiangoi,makhcu) VALUES %s ON CONFLICT (manv, makhcu, thoigiangoi) DO UPDATE SET thongtinthanhtoan = excluded.thongtinthanhtoan, giaiphap = excluded.giaiphap\n",
      "Data inserted using execute_values() successfully..\n"
     ]
    }
   ],
   "source": [
    "if __name__ == \"__main__\":\n",
    "    main()"
   ]
  }
 ],
 "metadata": {
  "kernelspec": {
   "display_name": "Python 3.8.10 ('venv': venv)",
   "language": "python",
   "name": "python3"
  },
  "language_info": {
   "codemirror_mode": {
    "name": "ipython",
    "version": 3
   },
   "file_extension": ".py",
   "mimetype": "text/x-python",
   "name": "python",
   "nbconvert_exporter": "python",
   "pygments_lexer": "ipython3",
   "version": "3.8.10"
  },
  "orig_nbformat": 4,
  "vscode": {
   "interpreter": {
    "hash": "72321b5291c527ca109b5cc6ad676402c04fd488c9b2ef3077125125353c5488"
   }
  }
 },
 "nbformat": 4,
 "nbformat_minor": 2
}
