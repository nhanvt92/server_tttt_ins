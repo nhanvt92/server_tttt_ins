{
 "cells": [
  {
   "cell_type": "code",
   "execution_count": 1,
   "metadata": {},
   "outputs": [],
   "source": [
    "from utils.df_handle import *"
   ]
  },
  {
   "cell_type": "code",
   "execution_count": 2,
   "metadata": {},
   "outputs": [],
   "source": [
    "def clean_data_ggform():\n",
    "    URL_ggform = 'https://docs.google.com/spreadsheets/d/e/2PACX-1vSYWdHL8hh3RoQTe4dAaidvJ83sbrKiZm9gseWgNru2uWRtfpKzYY87ix9rjl5AK5F7Fa3VGpGA4QgQ/pub?gid=1596587810&single=true&output=csv'\n",
    "    df =pd.read_csv(URL_ggform, dayfirst=True, parse_dates=['Timestamp'])\n",
    "    df.columns = cleancols(df)\n",
    "    df.columns = lower_col(df)\n",
    "    df.rename({'ghichuvethongtinthanhtoan':'thongtinthanhtoan','tennhanvienbanhang':'tencvbh','timestamp':'thoigiangoi'}\n",
    "          ,axis='columns',inplace =True)\n",
    "    df['updated_at'] = datetime.now()\n",
    "    df1=df[['manv','thongtinthanhtoan','giaiphap','thoigiangoi','makhcu','updated_at']]\n",
    "    return df1"
   ]
  },
  {
   "cell_type": "code",
   "execution_count": 4,
   "metadata": {},
   "outputs": [],
   "source": [
    "def clean_data_admininput():\n",
    "    URL_admin ='https://docs.google.com/spreadsheets/d/e/2PACX-1vSYWdHL8hh3RoQTe4dAaidvJ83sbrKiZm9gseWgNru2uWRtfpKzYY87ix9rjl5AK5F7Fa3VGpGA4QgQ/pub?gid=206442339&single=true&output=csv'\n",
    "    df = pd.read_csv(URL_admin,header = 0)\n",
    "    df.columns = cleancols(df)\n",
    "    df.columns = lower_col(df)\n",
    "    # Dùng để mapping tuần sang ngày\n",
    "    data_convert = pd.read_csv(\"convert_date.csv\", dayfirst=True, parse_dates=['ngay'])\n",
    "    reference = pd.DataFrame(data_convert)\n",
    "    df_unpivoted = df.melt(id_vars=['makhcu','manv','tenkhachhang','tennhanvien','giaiphap'], \n",
    "                       var_name='tuan', value_name='thongtinthanhtoan')\n",
    "    df3 = pd.DataFrame(df_unpivoted)\n",
    "    df4=df3.merge(reference, on='tuan', how='left')\n",
    "    df5=pd.DataFrame(df4)\n",
    "    df5.rename({'ngay':'thoigiangoi'}\n",
    "          ,axis='columns',inplace =True)\n",
    "    df5['updated_at'] = datetime.now()\n",
    "    df5['thoigiangoi'] = pd.to_datetime(df5['thoigiangoi'], format='%Y%m%d %H%M%S')\n",
    "    df6=df5[['manv','thongtinthanhtoan','giaiphap','thoigiangoi','makhcu','updated_at']]\n",
    "    df7=df6.dropna(subset=['manv','thongtinthanhtoan'])\n",
    "    return df7"
   ]
  },
  {
   "cell_type": "code",
   "execution_count": 11,
   "metadata": {},
   "outputs": [],
   "source": [
    "def clean_data_saleinput():\n",
    "    URL_saleinput ='https://docs.google.com/spreadsheets/d/e/2PACX-1vSYWdHL8hh3RoQTe4dAaidvJ83sbrKiZm9gseWgNru2uWRtfpKzYY87ix9rjl5AK5F7Fa3VGpGA4QgQ/pub?gid=1035878545&single=true&output=csv'\n",
    "    df = pd.read_csv(URL_saleinput,header = 0)\n",
    "    report_links=df.Link\n",
    "    index =0\n",
    "    df2 = pd.DataFrame()\n",
    "    for link in report_links:\n",
    "        # print(index, link)\n",
    "        # index += 1\n",
    "        df1 = pd.read_csv(link)\n",
    "        df1.columns = cleancols(df1)\n",
    "        df1.columns = lower_col(df1)\n",
    "        df2 =pd.concat([df2, df1],ignore_index=True).drop_duplicates()\n",
    "    else:\n",
    "        print('Đã hết số')\n",
    "    # Dùng để mapping tuần sang ngày\n",
    "    data_convert = pd.read_csv(\"convert_date.csv\", dayfirst=True, parse_dates=['ngay'])\n",
    "    reference = pd.DataFrame(data_convert)\n",
    "    df_unpivoted = df2.melt(id_vars=['makhcu','manhanvien','tenkhachhang','tennhanvien','giaiphap'], \n",
    "                       var_name='tuan', value_name='thongtinthanhtoan')\n",
    "    df3 = pd.DataFrame(df_unpivoted)\n",
    "    df4=df3.merge(reference, on='tuan', how='left')\n",
    "    df5=pd.DataFrame(df4)\n",
    "    df5.rename({'ngay':'thoigiangoi','manhanvien':'manv'}\n",
    "          ,axis='columns',inplace =True)\n",
    "    df5['updated_at'] = datetime.now()\n",
    "    df5['thoigiangoi'] = pd.to_datetime(df5['thoigiangoi'], format='%Y%m%d %H%M%S')\n",
    "    df6=df5[['manv','thongtinthanhtoan','giaiphap','thoigiangoi','makhcu','updated_at']]\n",
    "    df7=df6.dropna(subset=['manv','thongtinthanhtoan'])\n",
    "    return df7\n",
    "\n"
   ]
  },
  {
   "cell_type": "code",
   "execution_count": 13,
   "metadata": {},
   "outputs": [
    {
     "name": "stdout",
     "output_type": "stream",
     "text": [
      "Đã hết số\n"
     ]
    }
   ],
   "source": [
    "df_sale = clean_data_saleinput()\n",
    "df_ggform =clean_data_ggform()\n",
    "df_admin = clean_data_admininput()"
   ]
  },
  {
   "cell_type": "code",
   "execution_count": 16,
   "metadata": {},
   "outputs": [],
   "source": [
    "df_all = pd.concat([df_admin, df_ggform,df_sale],ignore_index=True).drop_duplicates()"
   ]
  },
  {
   "cell_type": "code",
   "execution_count": null,
   "metadata": {},
   "outputs": [],
   "source": [
    "def update_table():\n",
    "\tdf = df_all\n",
    "\tpk = ['manv','makhcu','thongtinthanhtoan']\n",
    "\texecute_values_upsert(df, \"d_tttt_ins\",pk)"
   ]
  },
  {
   "cell_type": "code",
   "execution_count": null,
   "metadata": {},
   "outputs": [],
   "source": [
    "def main():  \n",
    "    update_table()"
   ]
  },
  {
   "cell_type": "code",
   "execution_count": null,
   "metadata": {},
   "outputs": [],
   "source": [
    "if __name__ == \"__main__\":\n",
    "    main()"
   ]
  }
 ],
 "metadata": {
  "kernelspec": {
   "display_name": "Python 3.8.10 ('venv': venv)",
   "language": "python",
   "name": "python3"
  },
  "language_info": {
   "codemirror_mode": {
    "name": "ipython",
    "version": 3
   },
   "file_extension": ".py",
   "mimetype": "text/x-python",
   "name": "python",
   "nbconvert_exporter": "python",
   "pygments_lexer": "ipython3",
   "version": "3.8.10"
  },
  "orig_nbformat": 4,
  "vscode": {
   "interpreter": {
    "hash": "72321b5291c527ca109b5cc6ad676402c04fd488c9b2ef3077125125353c5488"
   }
  }
 },
 "nbformat": 4,
 "nbformat_minor": 2
}
