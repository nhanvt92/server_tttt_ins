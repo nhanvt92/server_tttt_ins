{
 "cells": [
  {
   "cell_type": "code",
   "execution_count": 62,
   "metadata": {},
   "outputs": [],
   "source": [
    "from utils.df_handle import *"
   ]
  },
  {
   "cell_type": "code",
   "execution_count": 63,
   "metadata": {},
   "outputs": [],
   "source": [
    "URL_saleinput ='https://docs.google.com/spreadsheets/d/e/2PACX-1vSYWdHL8hh3RoQTe4dAaidvJ83sbrKiZm9gseWgNru2uWRtfpKzYY87ix9rjl5AK5F7Fa3VGpGA4QgQ/pub?gid=1035878545&single=true&output=csv'"
   ]
  },
  {
   "cell_type": "code",
   "execution_count": 64,
   "metadata": {},
   "outputs": [],
   "source": [
    "df = pd.read_csv(URL_saleinput,header = 0)"
   ]
  },
  {
   "cell_type": "code",
   "execution_count": 66,
   "metadata": {},
   "outputs": [],
   "source": [
    "report_links=df.Link"
   ]
  },
  {
   "cell_type": "code",
   "execution_count": 67,
   "metadata": {},
   "outputs": [
    {
     "name": "stdout",
     "output_type": "stream",
     "text": [
      "0 https://docs.google.com/spreadsheets/d/e/2PACX-1vS7M8qr9Iz5eU1LzIe5e-_4ng7LfUibZo4pEk9O5Kn1WxbsGXAWU0dEn37j0oZUE1zbIaGqfDH_H4F2/pub?gid=0&single=true&output=csv\n",
      "1 https://docs.google.com/spreadsheets/d/e/2PACX-1vR1t6SUVfRr25uwnUKB1D-s0OcJTC7oGeOmwBwfqWcwXKstw640TG3Ma1JTLbSqGVnLQ74OmQvwET3P/pub?gid=0&single=true&output=csv\n",
      "2 https://docs.google.com/spreadsheets/d/e/2PACX-1vSos2H4ERb-w7TI-YyITz1Iklmo89rs0k202NCXu1M-77uIC67-ul_V17tzrt9tsSELpDfbfgd11XqJ/pub?gid=0&single=true&output=csv\n",
      "3 https://docs.google.com/spreadsheets/d/e/2PACX-1vR4-y9ok05alh2489hMrxT7ZJydBA6RPZ-owQNph75qumtpj5hjlqlPxlPVZEygtbSt3069O5zuA03G/pub?gid=0&single=true&output=csv\n",
      "4 https://docs.google.com/spreadsheets/d/e/2PACX-1vT2qOAPQTLCja_YRZVh84OXmOS3A891f3Yv_6sirnPoAHvzmUK3yzz0g8cBwVeQh2KVUtPt0BgyM8cg/pub?gid=0&single=true&output=csv\n",
      "5 https://docs.google.com/spreadsheets/d/e/2PACX-1vQmoou01dvq3VKpihmb2PkVBqHjuIcUJ8ZqAF_LiUOMN6ATrbPHps7Y1RkFazZV6qrtGpk8NV8tNEWS/pub?gid=0&single=true&output=csv\n",
      "6 https://docs.google.com/spreadsheets/d/e/2PACX-1vTHYwz37fq4iGOM-109wayVSN45KzAxJMWkT9HOM-fZ9Zg5FEJt4qE-Aze3nUjmnehF1hLD22ukwA_5/pub?gid=0&single=true&output=csv\n",
      "7 https://docs.google.com/spreadsheets/d/e/2PACX-1vTxWaUvgKuOEv4-HOT0ggncZHnqEPjmlcm14g7Fob6M6ahEMPAvePMrIjV0COUtaqk54gpiEhANnh76/pub?gid=0&single=true&output=csv\n",
      "8 https://docs.google.com/spreadsheets/d/e/2PACX-1vQxgNyOzpPEQCnHU60ECMciWXNOMYrteidl79tozSjYJQcqpTC1LoZsyRUk1CXhfdXLMX2Hh30P5VZF/pub?gid=0&single=true&output=csv\n",
      "9 https://docs.google.com/spreadsheets/d/e/2PACX-1vQJMZMJEIz4teeaJ5rYSg46UsBE75qI314mb4by1OukiNGLBT7ejxTzlmHFSS6sEM9QL9dNSWB8Bquk/pub?gid=0&single=true&output=csv\n",
      "10 https://docs.google.com/spreadsheets/d/e/2PACX-1vRYSHOnmAqoCuL4NKpKeDdE1TWXB3lGZvRAl6VQXdZBN8CGpLbR6SiVnCBypXUHpz61ypc7jOLorIZ1/pub?gid=0&single=true&output=csv\n",
      "11 https://docs.google.com/spreadsheets/d/e/2PACX-1vRYSHOnmAqoCuL4NKpKeDdE1TWXB3lGZvRAl6VQXdZBN8CGpLbR6SiVnCBypXUHpz61ypc7jOLorIZ1/pub?gid=0&single=true&output=csv\n",
      "12 https://docs.google.com/spreadsheets/d/e/2PACX-1vTL95Nxr6UqBDDWv7R71WyRFX4oGFF9j2pD9TIorVQp4tlABh2tK3lZFU7hpYJJaJqOGiTj1xoQEZfp/pub?gid=0&single=true&output=csv\n",
      "13 https://docs.google.com/spreadsheets/d/e/2PACX-1vS_QA5C1cUWWMpuRG1RWkr8Ixu6EARm9vWo2_gQZABoFvAjFa1jnZ797I_axsQO0U2kcOKsgQefxUJR/pub?gid=0&single=true&output=csv\n",
      "14 https://docs.google.com/spreadsheets/d/e/2PACX-1vSHSnvcPAe6PS-O_-4zc_haCO7jCK2WgaWVsA9TB9eiv_754pwLLYLfjijxD8JWpbXz61NaxGV82uue/pub?gid=0&single=true&output=csv\n",
      "15 https://docs.google.com/spreadsheets/d/e/2PACX-1vT4jA_PfOfbWeWkQ6ttVAx1omotewVp9omKv626PFR8Mum40XmB2NUGNCp54NuyFnSjqP3oROpRFC6x/pub?gid=0&single=true&output=csv\n",
      "16 https://docs.google.com/spreadsheets/d/e/2PACX-1vSQmMba7023GTuUQFIaX6ehaTh7UToApda5OlskBwn157igysNoNFRUm2UZYDBdNP_HpNzeBTFOY4Xe/pub?gid=0&single=true&output=csv\n",
      "17 https://docs.google.com/spreadsheets/d/e/2PACX-1vQK-TxVzNv_G8cm8hsRWSovxolV2mHME7gwFnIz_33yqBcWeYlWjI46swVi4BXSyjlns4VoxTK3t9Ny/pub?gid=0&single=true&output=csv\n",
      "18 https://docs.google.com/spreadsheets/d/e/2PACX-1vSFxLZyea5lAdOd6uEWS4QPDy61nHJzyyZZcZXIe1afByOKuPAmR7OvzJziDhmguCDd3yM4LjTB6eGB/pub?gid=0&single=true&output=csv\n",
      "19 https://docs.google.com/spreadsheets/d/e/2PACX-1vTKMWcJnqqJoJ6qbmVHPKTzOtejmMYp2a3v7jNbLE9EYdQS4s6RpTuwHVsvQuohnuZFRebrUAJuquBP/pub?gid=0&single=true&output=csv\n",
      "20 https://docs.google.com/spreadsheets/d/e/2PACX-1vRVWeZldUn1U6JTLUIVQT3-iaqHRpfJJMJR7mc2207QgfdeKEcFkPa6hxs_Mwxjf3zo1iCYGlUXWP6V/pub?gid=0&single=true&output=csv\n",
      "21 https://docs.google.com/spreadsheets/d/e/2PACX-1vQLUKqENR3gqrmjl2In0t2FK66hOAfTPHs5CtXD-bURSuJJS8GFyAg6ERHgXPug8xuvoLRJxf2fIouo/pub?gid=0&single=true&output=csv\n",
      "22 https://docs.google.com/spreadsheets/d/e/2PACX-1vRqr25cQPiXzivsNy5uUeUnEZHyAYFqAvq-9ftaN_0qYT2mq_kx_O9FGtKNy0lthMUkai57xjZbmbv9/pub?gid=0&single=true&output=csv\n",
      "23 https://docs.google.com/spreadsheets/d/e/2PACX-1vT5wqmWXKW_PZk-HoGQ9Vf014LjmnAjXSlT4-_snB048-xJMIQ5DhACj7sU3h5qlpA-GLaRwesLut8c/pub?gid=0&single=true&output=csv\n",
      "24 https://docs.google.com/spreadsheets/d/e/2PACX-1vRczEkExMcBqKXfYT9IDtoPDDyG9pCt97tveldQj5o1L_treV7oshB6iig379WEbARTMviKCTG4k_u3/pub?gid=0&single=true&output=csv\n",
      "25 https://docs.google.com/spreadsheets/d/e/2PACX-1vQB8nRSiSJdK-PqoMhBQwr45Dg05RJfru0-cj_MTSCkcsGAIjv1DPUGzfRqUOZ-Rn94z6KQsq-8qxSJ/pub?gid=0&single=true&output=csv\n",
      "26 https://docs.google.com/spreadsheets/d/e/2PACX-1vTg81MKo5DxR5u1FE4ic5xQmlDRj4NUoV2c3hb3mn1GeJyXCyayPXFYKC5CcKttX11_P6yO5GC0fRCA/pub?gid=0&single=true&output=csv\n",
      "27 https://docs.google.com/spreadsheets/d/e/2PACX-1vSbc8L2gb2knQdlKAm5O6Q678ul2zuXhVH0_BtB68ca2QMi9JVQmn2Mp0d_n7YrdtN9McVpg2L2JBzY/pub?gid=0&single=true&output=csv\n",
      "28 https://docs.google.com/spreadsheets/d/e/2PACX-1vTYCSmy_eENnd_v8lZtdWiHnmbwSPk5lomQh46z_F2B7KP1sKAd4R1MTS0g2fqY4dMu7evqRu0wiRlX/pub?gid=0&single=true&output=csv\n",
      "29 https://docs.google.com/spreadsheets/d/e/2PACX-1vTGv_fsKH-va9AxwnEZgrvt2H7DUV0-CqAGQSYkscLzablCv1cYUvTIUUXZMyDbuElFPlc6J1C3Z2H0/pub?gid=0&single=true&output=csv\n",
      "30 https://docs.google.com/spreadsheets/d/e/2PACX-1vSB1DEHP45FqqjMRK_CAKmXoBDu30pTSf2X9Kgn_QalKfcZHZgulh_m0kwHUS1lWHobYMuhJ600ipG4/pub?gid=0&single=true&output=csv\n",
      "31 https://docs.google.com/spreadsheets/d/e/2PACX-1vTwxkBswD24aIZ0ULgbxvWU-M2e70dQ3eKPh9PNdEYXao4vx88St_GUo2X_aZ5a1jeVqGm6zHVaFr-w/pub?gid=0&single=true&output=csv\n",
      "32 https://docs.google.com/spreadsheets/d/e/2PACX-1vSmYLxtEuzoe2GKWwI808d-8Uh8EPFA-6KEDpnzvBzOHRaRUp4o7pL3TvoJfuAyL6WlOdW5SfI-sdcY/pub?gid=0&single=true&output=csv\n",
      "Đã hết số\n"
     ]
    }
   ],
   "source": [
    "index =0\n",
    "df2 = pd.DataFrame()\n",
    "for link in report_links:\n",
    "    print(index, link)\n",
    "    index += 1\n",
    "    df1 = pd.read_csv(link)\n",
    "    df1.columns = cleancols(df1)\n",
    "    df1.columns = lower_col(df1)\n",
    "    df2 =pd.concat([df2, df1],ignore_index=True).drop_duplicates()\n",
    "else:\n",
    "    print('Đã hết số')\n",
    "\n",
    "\n"
   ]
  },
  {
   "cell_type": "code",
   "execution_count": 70,
   "metadata": {},
   "outputs": [],
   "source": [
    "# Dùng để mapping tuần sang ngày\n",
    "data_convert = pd.read_csv(\"convert_date.csv\", dayfirst=True, parse_dates=['ngay'])\n",
    "reference = pd.DataFrame(data_convert)"
   ]
  },
  {
   "cell_type": "code",
   "execution_count": 71,
   "metadata": {},
   "outputs": [],
   "source": [
    "df_unpivoted = df2.melt(id_vars=['makhcu','manhanvien','tenkhachhang','tennhanvien','giaiphap'], \n",
    "                       var_name='tuan', value_name='thongtinthanhtoan')\n",
    "df3 = pd.DataFrame(df_unpivoted)"
   ]
  },
  {
   "cell_type": "code",
   "execution_count": 72,
   "metadata": {},
   "outputs": [],
   "source": [
    "df4=df3.merge(reference, on='tuan', how='left')\n",
    "df5=pd.DataFrame(df4)"
   ]
  },
  {
   "cell_type": "code",
   "execution_count": 74,
   "metadata": {},
   "outputs": [],
   "source": [
    "df5.rename({'ngay':'thoigiangoi','manhanvien':'manv'}\n",
    "          ,axis='columns',inplace =True)\n",
    "df5['updated_at'] = datetime.now()"
   ]
  },
  {
   "cell_type": "code",
   "execution_count": 75,
   "metadata": {},
   "outputs": [],
   "source": [
    "df5['thoigiangoi'] = pd.to_datetime(df5['thoigiangoi'], format='%Y%m%d %H%M%S')\n"
   ]
  },
  {
   "cell_type": "code",
   "execution_count": 76,
   "metadata": {},
   "outputs": [],
   "source": [
    "df6=df5[['manv','thongtinthanhtoan','giaiphap','thoigiangoi','makhcu','updated_at']]"
   ]
  },
  {
   "cell_type": "code",
   "execution_count": 77,
   "metadata": {},
   "outputs": [],
   "source": [
    "df7=df6.dropna(subset=['manv','thongtinthanhtoan'])"
   ]
  },
  {
   "cell_type": "code",
   "execution_count": 79,
   "metadata": {},
   "outputs": [],
   "source": [
    "def upsert_table():\n",
    "\tdf = df7\n",
    "\tpk = ['manv','makhcu','thongtinthanhtoan']\n",
    "\texecute_values_upsert(df, \"d_tttt_ins\",pk)"
   ]
  },
  {
   "cell_type": "code",
   "execution_count": 80,
   "metadata": {},
   "outputs": [],
   "source": [
    "def main():  \n",
    "    upsert_table()"
   ]
  },
  {
   "cell_type": "code",
   "execution_count": 81,
   "metadata": {},
   "outputs": [
    {
     "name": "stdout",
     "output_type": "stream",
     "text": [
      "INSERT INTO d_tttt_ins(manv,thongtinthanhtoan,giaiphap,thoigiangoi,makhcu,updated_at) VALUES %s ON CONFLICT (manv, makhcu, thongtinthanhtoan) DO UPDATE SET giaiphap = excluded.giaiphap, thoigiangoi = excluded.thoigiangoi, updated_at = excluded.updated_at\n",
      "Data inserted using execute_values() successfully..\n"
     ]
    }
   ],
   "source": [
    "if __name__ == \"__main__\":\n",
    "    main()"
   ]
  },
  {
   "cell_type": "code",
   "execution_count": null,
   "metadata": {},
   "outputs": [],
   "source": []
  }
 ],
 "metadata": {
  "kernelspec": {
   "display_name": "Python 3.8.10 ('venv': venv)",
   "language": "python",
   "name": "python3"
  },
  "language_info": {
   "codemirror_mode": {
    "name": "ipython",
    "version": 3
   },
   "file_extension": ".py",
   "mimetype": "text/x-python",
   "name": "python",
   "nbconvert_exporter": "python",
   "pygments_lexer": "ipython3",
   "version": "3.8.10"
  },
  "orig_nbformat": 4,
  "vscode": {
   "interpreter": {
    "hash": "72321b5291c527ca109b5cc6ad676402c04fd488c9b2ef3077125125353c5488"
   }
  }
 },
 "nbformat": 4,
 "nbformat_minor": 2
}
